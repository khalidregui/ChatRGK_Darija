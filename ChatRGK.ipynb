{
 "cells": [
  {
   "cell_type": "markdown",
   "id": "ec6803c7-65a7-41f1-af92-b9be3efbdde2",
   "metadata": {},
   "source": [
    "# ChatRGK developped by Khalid Regui "
   ]
  },
  {
   "cell_type": "markdown",
   "id": "6c3e6706-978d-4e63-9126-16ada3374738",
   "metadata": {},
   "source": [
    "here is my website : https://regui.online"
   ]
  },
  {
   "cell_type": "code",
   "execution_count": 11,
   "id": "53cfc25b-2c0e-4be6-9b92-9439aa60fec8",
   "metadata": {},
   "outputs": [],
   "source": [
    "from sk import my_sk\n",
    "from langchain_openai.chat_models import ChatOpenAI\n",
    "\n",
    "model = ChatOpenAI(openai_api_key=my_sk, model=\"gpt-4o\")"
   ]
  },
  {
   "cell_type": "code",
   "execution_count": 12,
   "id": "06338c73-27a8-4318-a810-baf729fdb391",
   "metadata": {},
   "outputs": [],
   "source": [
    "from langchain.prompts import ChatPromptTemplate\n",
    "\n",
    "template = \"\"\"\n",
    "You are a Moroccan AI fleuent in Darija.\n",
    "Use the provided context to response to the user Question.\n",
    "Make your response short and helpful.\n",
    "If you don't find the relevent answer in the context provided just response you don't know.\n",
    "\n",
    "Context: {context}\n",
    "\n",
    "Question: {question}\n",
    "\n",
    "Helpful answer in Darija : \n",
    "\"\"\"\n",
    "prompt = ChatPromptTemplate.from_template(template)"
   ]
  },
  {
   "cell_type": "code",
   "execution_count": null,
   "id": "fa1814b5-03dc-4b24-8fb3-b403fe51b837",
   "metadata": {},
   "outputs": [],
   "source": [
    "from langchain_community.document_loaders import DirectoryLoader, PyPDFLoader\n",
    "from langchain.text_splitter import RecursiveCharacterTextSplitter\n",
    "DATA_PATH = \"data/\"\n",
    "loader = DirectoryLoader(DATA_PATH, glob='*.pdf', loader_cls = PyPDFLoader)\n",
    "documents = loader.load()\n",
    "text_splitter = RecursiveCharacterTextSplitter(chunk_size=1000, chunk_overlap=50)\n",
    "texts=text_splitter.split_documents(documents)"
   ]
  },
  {
   "cell_type": "code",
   "execution_count": null,
   "id": "2d3b1528-de79-4a2b-a4a5-1080fb791070",
   "metadata": {},
   "outputs": [],
   "source": [
    "from langchain_openai.embeddings import OpenAIEmbeddings\n",
    "from langchain_community.vectorstores import FAISS\n",
    "\n",
    "embeddings = OpenAIEmbeddings(openai_api_key=my_sk)\n",
    "vdb = FAISS.from_documents(texts, embeddings)"
   ]
  },
  {
   "cell_type": "code",
   "execution_count": null,
   "id": "2e594620-d293-4f76-99a8-9900f89b40b0",
   "metadata": {},
   "outputs": [],
   "source": [
    "DB_FAISS_PATH = \"vectorstores/db_faiss\"\n",
    "vdb.save_local(DB_FAISS_PATH)"
   ]
  },
  {
   "cell_type": "code",
   "execution_count": 13,
   "id": "5a970c3f-2b5f-4602-9eec-9b595c6c64fe",
   "metadata": {},
   "outputs": [],
   "source": [
    "from langchain_openai.embeddings import OpenAIEmbeddings\n",
    "from langchain_community.vectorstores import FAISS\n",
    "\n",
    "embeddings = OpenAIEmbeddings(openai_api_key=my_sk)\n",
    "DB_FAISS_PATH = \"vectorstores/db_faiss\"\n",
    "vdb = FAISS.load_local(DB_FAISS_PATH, embeddings, allow_dangerous_deserialization = True)"
   ]
  },
  {
   "cell_type": "code",
   "execution_count": 14,
   "id": "51177f8e-88bc-410f-9ffb-b3abfaddab3a",
   "metadata": {},
   "outputs": [],
   "source": [
    "from langchain_core.output_parsers import StrOutputParser\n",
    "\n",
    "parser = StrOutputParser()"
   ]
  },
  {
   "cell_type": "code",
   "execution_count": 15,
   "id": "8c575245-09be-4245-8743-38c6fce273fd",
   "metadata": {},
   "outputs": [],
   "source": [
    "from langchain_core.runnables import RunnablePassthrough\n",
    "chain = (\n",
    "    {\"context\": vdb.as_retriever(search_kwargs={'k': 3}), \"question\": RunnablePassthrough()}\n",
    "    | prompt\n",
    "    | model\n",
    "    | parser\n",
    ")"
   ]
  },
  {
   "cell_type": "code",
   "execution_count": null,
   "id": "107a9f06-a1b8-4b3f-9649-896eb7d117cc",
   "metadata": {},
   "outputs": [
    {
     "name": "stdout",
     "output_type": "stream",
     "text": [
      " * Serving Flask app '__main__'\n",
      " * Debug mode: off\n"
     ]
    },
    {
     "name": "stderr",
     "output_type": "stream",
     "text": [
      "WARNING: This is a development server. Do not use it in a production deployment. Use a production WSGI server instead.\n",
      " * Running on all addresses (0.0.0.0)\n",
      " * Running on http://127.0.0.1:5000\n",
      " * Running on http://10.72.125.39:5000\n",
      "Press CTRL+C to quit\n",
      "10.72.125.39 - - [20/Jul/2024 23:35:49] \"GET / HTTP/1.1\" 200 -\n",
      "10.72.125.39 - - [20/Jul/2024 23:37:58] \"GET /get?msg=salam HTTP/1.1\" 200 -\n",
      "10.72.125.39 - - [20/Jul/2024 23:38:12] \"GET / HTTP/1.1\" 200 -\n",
      "10.72.125.39 - - [20/Jul/2024 23:38:19] \"GET /get?msg=slm HTTP/1.1\" 200 -\n",
      "10.72.125.39 - - [20/Jul/2024 23:38:39] \"GET / HTTP/1.1\" 200 -\n",
      "10.72.125.39 - - [20/Jul/2024 23:38:59] \"GET /get?msg=salam%20chatrgk HTTP/1.1\" 200 -\n",
      "10.72.125.39 - - [20/Jul/2024 23:39:16] \"GET /get?msg=bghit%20des%20info%203la%20emi HTTP/1.1\" 200 -\n",
      "10.72.125.39 - - [20/Jul/2024 23:39:45] \"GET / HTTP/1.1\" 200 -\n",
      "10.72.125.39 - - [20/Jul/2024 23:40:31] \"GET /get?msg=Salam%20ChatRGK HTTP/1.1\" 200 -\n",
      "10.72.125.39 - - [20/Jul/2024 23:40:50] \"GET /get?msg=bghit%20n3rf%20chno%20hya%20emi HTTP/1.1\" 200 -\n",
      "10.72.125.39 - - [20/Jul/2024 23:41:14] \"GET /get?msg=ah%20mzn HTTP/1.1\" 200 -\n",
      "10.72.125.39 - - [20/Jul/2024 23:41:28] \"GET /get?msg=wbnisba%20l%20génie%20mis HTTP/1.1\" 200 -\n",
      "10.72.125.39 - - [20/Jul/2024 23:42:08] \"GET /get?msg=ok%20chokran HTTP/1.1\" 200 -\n",
      "10.72.125.39 - - [20/Jul/2024 23:42:26] \"GET /get?msg=wach%20mis%203ndha%20chi%20club HTTP/1.1\" 200 -\n"
     ]
    }
   ],
   "source": [
    "from flask import Flask, jsonify, render_template, request\n",
    "app = Flask(__name__)\n",
    "\n",
    "@app.route('/')\n",
    "def index():\n",
    "    return render_template('index.html')\n",
    "\n",
    "@app.route(\"/get\")\n",
    "def response():\n",
    "    query = request.args.get('msg')\n",
    "    res = chain.invoke(query)\n",
    "    return jsonify({\"response\": res})\n",
    "\n",
    "if __name__ == \"__main__\":\n",
    "    app.run(host=\"0.0.0.0\", port=5000)"
   ]
  },
  {
   "cell_type": "code",
   "execution_count": null,
   "id": "15b6e151-8e6c-4fe2-99e1-cbb1bed29fcf",
   "metadata": {},
   "outputs": [],
   "source": []
  }
 ],
 "metadata": {
  "kernelspec": {
   "display_name": "Python 3 (ipykernel)",
   "language": "python",
   "name": "python3"
  },
  "language_info": {
   "codemirror_mode": {
    "name": "ipython",
    "version": 3
   },
   "file_extension": ".py",
   "mimetype": "text/x-python",
   "name": "python",
   "nbconvert_exporter": "python",
   "pygments_lexer": "ipython3",
   "version": "3.12.4"
  }
 },
 "nbformat": 4,
 "nbformat_minor": 5
}
